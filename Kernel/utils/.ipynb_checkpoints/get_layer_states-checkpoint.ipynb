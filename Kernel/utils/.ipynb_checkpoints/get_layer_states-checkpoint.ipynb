{
 "cells": [
  {
   "cell_type": "code",
   "execution_count": 1,
   "metadata": {
    "ExecuteTime": {
     "end_time": "2022-11-06T14:15:08.663430Z",
     "start_time": "2022-11-06T14:15:07.763314Z"
    }
   },
   "outputs": [],
   "source": [
    "from edlut2 import simulation_wrapper as pyedlut\n",
    "import matplotlib.pyplot as plt\n",
    "import numpy as np\n",
    "from scipy.ndimage import gaussian_filter1d"
   ]
  },
  {
   "cell_type": "code",
   "execution_count": 2,
   "metadata": {
    "ExecuteTime": {
     "end_time": "2022-11-06T14:15:08.667327Z",
     "start_time": "2022-11-06T14:15:08.664774Z"
    }
   },
   "outputs": [],
   "source": [
    "simulation = pyedlut.PySimulation_API()\n",
    "\n",
    "simulation_time = 10.0\n",
    "simulation_step = 1e-3"
   ]
  },
  {
   "cell_type": "code",
   "execution_count": 3,
   "metadata": {
    "ExecuteTime": {
     "end_time": "2022-11-06T14:15:08.686750Z",
     "start_time": "2022-11-06T14:15:08.669169Z"
    }
   },
   "outputs": [],
   "source": [
    "# Create the input neuron layers\n",
    "\n",
    "input_layer = simulation.AddNeuronLayer(\n",
    "    num_neurons=3,\n",
    "    model_name='InputSpikeNeuronModel',\n",
    "    param_dict={},\n",
    "    log_activity=False,\n",
    "    output_activity=True)\n",
    "\n",
    "current_layer = simulation.AddNeuronLayer(\n",
    "    num_neurons=1,\n",
    "    model_name='InputCurrentNeuronModel',\n",
    "    param_dict={},\n",
    "    log_activity=False,\n",
    "    output_activity=False\n",
    ")"
   ]
  },
  {
   "cell_type": "code",
   "execution_count": 4,
   "metadata": {
    "ExecuteTime": {
     "end_time": "2022-11-06T14:15:08.717569Z",
     "start_time": "2022-11-06T14:15:08.688249Z"
    }
   },
   "outputs": [],
   "source": [
    "# Create the output layer\n",
    "\n",
    "integration_method = pyedlut.PyModelDescription(model_name='Euler', params_dict={'step': 0.0001})\n",
    "\n",
    "output_params = {\n",
    "    'a': 0.02, #0.1,\n",
    "    'b': 0.25, #0.23,\n",
    "    'c': -65.0,\n",
    "    'd': 0.05, #0.2,\n",
    "    'c_m': 100.0,\n",
    "    'e_exc': 0.0,\n",
    "    'e_inh': -63.0,\n",
    "    'tau_exc': 5.0,\n",
    "    'tau_inh': 32.0,\n",
    "    'tau_nmda': 200.0,\n",
    "    'int_meth': integration_method,\n",
    "}\n",
    "\n",
    "output_layer = simulation.AddNeuronLayer(\n",
    "    num_neurons = 1,\n",
    "    model_name = 'IzhikevichTimeDrivenModel',\n",
    "    param_dict = output_params,\n",
    "    log_activity = False,\n",
    "    output_activity = True\n",
    ")"
   ]
  },
  {
   "cell_type": "code",
   "execution_count": 5,
   "metadata": {
    "ExecuteTime": {
     "end_time": "2022-11-06T14:15:08.739047Z",
     "start_time": "2022-11-06T14:15:08.718938Z"
    }
   },
   "outputs": [],
   "source": [
    "# Create the synapses\n",
    "\n",
    "sources, targets = [], []\n",
    "conn_types = []\n",
    "w_change = []\n",
    "ws = []\n",
    "delays = []\n",
    "\n",
    "# Entrada de corriente\n",
    "sources.append(current_layer[0])\n",
    "targets.append(output_layer[0])\n",
    "conn_types.append(3)\n",
    "w_change.append(-1)\n",
    "ws.append(0.0)\n",
    "delays.append(0.001)\n",
    "\n",
    "# Entrada de spikes (AMPA, GABA, NMDA)\n",
    "for i,n in enumerate(input_layer):\n",
    "    sources.append(n)\n",
    "    targets.append(output_layer[0])\n",
    "    conn_types.append(i)\n",
    "    w_change.append(-1)\n",
    "    ws.append(2.0)\n",
    "    delays.append(0.001)\n",
    "\n",
    "synaptic_params = {\n",
    "    'weight': ws,\n",
    "    'max_weight': 1000.0,\n",
    "    'type': conn_types,\n",
    "    'delay': delays,\n",
    "    'wchange': w_change,\n",
    "    'trigger_wchange': -1\n",
    "}\n",
    "\n",
    "_ = simulation.AddSynapticLayer(sources, targets, synaptic_params);"
   ]
  },
  {
   "cell_type": "code",
   "execution_count": 6,
   "metadata": {
    "ExecuteTime": {
     "end_time": "2022-11-06T14:15:08.765644Z",
     "start_time": "2022-11-06T14:15:08.740715Z"
    }
   },
   "outputs": [],
   "source": [
    "# Initialize the network\n",
    "\n",
    "simulation.Initialize()"
   ]
  },
  {
   "cell_type": "code",
   "execution_count": 7,
   "metadata": {
    "ExecuteTime": {
     "end_time": "2022-11-06T14:15:08.787691Z",
     "start_time": "2022-11-06T14:15:08.767192Z"
    }
   },
   "outputs": [],
   "source": [
    "# Inject input spikes and currents to the network\n",
    "\n",
    "n_spikes = 20\n",
    "simulation.AddExternalSpikeActivity(\n",
    "    np.random.rand(n_spikes)*simulation_time, \n",
    "    np.random.randint(0,input_layer[-1]+1, size=n_spikes)\n",
    ")\n",
    "\n",
    "n_changes = 10\n",
    "simulation.AddExternalCurrentActivity(\n",
    "    np.random.rand(n_changes)*simulation_time, \n",
    "    current_layer*n_changes, \n",
    "    ((np.random.rand(n_changes)-0.5)*2) * 30.0\n",
    ")"
   ]
  },
  {
   "cell_type": "code",
   "execution_count": 13,
   "metadata": {
    "ExecuteTime": {
     "end_time": "2022-11-06T14:20:50.953854Z",
     "start_time": "2022-11-06T14:20:50.946459Z"
    }
   },
   "outputs": [
    {
     "data": {
      "text/plain": [
       "(1, 6)"
      ]
     },
     "execution_count": 13,
     "metadata": {},
     "output_type": "execute_result"
    }
   ],
   "source": [
    "state_ptr.shape"
   ]
  },
  {
   "cell_type": "code",
   "execution_count": 8,
   "metadata": {
    "ExecuteTime": {
     "end_time": "2022-11-06T14:15:08.881184Z",
     "start_time": "2022-11-06T14:15:08.789813Z"
    }
   },
   "outputs": [],
   "source": [
    "# Run the simulation\n",
    "\n",
    "state_ptr = simulation.GetLayerState(output_layer) #We obtain a pointer to the state of the layer\n",
    "\n",
    "states = []\n",
    "times = []\n",
    "for i, t in enumerate(np.arange(simulation_step, simulation_time+simulation_step, simulation_step)):\n",
    "    simulation.RunSimulation(t)\n",
    "    states.append(state_ptr.copy()) #We copy and save the state of the layer every timestep (we could do this every N timesteps)\n",
    "    if i % 100: \n",
    "        state_ptr[0,0] = np.random.rand()*100 - 100 #With state_ptr being a pointer, we can directly modify EDLUT states from Python!\n",
    "    times.append(t)\n",
    "    \n",
    "# Retrieve spikes\n",
    "st, si = simulation.GetSpikeActivity()\n",
    "st = np.array(st)\n",
    "si = np.array(si)\n",
    "\n",
    "# Retrieve states and times\n",
    "s = np.array(states).reshape((-1,6))\n",
    "t = np.array(times)"
   ]
  },
  {
   "cell_type": "code",
   "execution_count": 9,
   "metadata": {
    "ExecuteTime": {
     "end_time": "2022-11-06T14:15:09.053182Z",
     "start_time": "2022-11-06T14:15:08.882493Z"
    }
   },
   "outputs": [
    {
     "data": {
      "text/plain": [
       "<matplotlib.collections.PathCollection at 0x7f84207c2b50>"
      ]
     },
     "execution_count": 9,
     "metadata": {},
     "output_type": "execute_result"
    },
    {
     "data": {
      "image/png": "[encoded data removed]",
      "text/plain": [
       "<Figure size 1080x72 with 1 Axes>"
      ]
     },
     "metadata": {
      "needs_background": "light"
     },
     "output_type": "display_data"
    }
   ],
   "source": [
    "# Plot input and output spikes\n",
    "\n",
    "plt.rcParams['figure.figsize'] = (15,1)\n",
    "\n",
    "sub = np.in1d(si, input_layer)\n",
    "plt.scatter(st[sub], si[sub], s=3)\n",
    "\n",
    "sub = np.in1d(si, output_layer)\n",
    "plt.scatter(st[sub], si[sub], s=3)"
   ]
  },
  {
   "cell_type": "code",
   "execution_count": 11,
   "metadata": {
    "ExecuteTime": {
     "end_time": "2022-11-06T14:15:17.159361Z",
     "start_time": "2022-11-06T14:15:16.651450Z"
    }
   },
   "outputs": [
    {
     "data": {
      "image/png": "[encoded data removed]",
      "text/plain": [
       "<Figure size 1080x576 with 6 Axes>"
      ]
     },
     "metadata": {
      "needs_background": "light"
     },
     "output_type": "display_data"
    }
   ],
   "source": [
    "# Plot state variables\n",
    "\n",
    "variable_names = ['v', 'u', 'AMPA', 'GABA', 'NMDA', 'Current']\n",
    "\n",
    "plt.rcParams['figure.figsize'] = (15,8)\n",
    "fig, axs = plt.subplots(6,1, sharex=True)\n",
    "\n",
    "for i,ax in enumerate(axs):\n",
    "    ax.plot(t, s[:,i])\n",
    "    ax.set_ylabel(variable_names[i], rotation=0, labelpad=30)\n",
    "    ax.grid()\n",
    "#     plt.xlim((0,0.2))\n",
    "\n",
    "_ = axs[-1].set_xlabel('Time (s)')"
   ]
  }
 ],
 "metadata": {
  "kernelspec": {
   "display_name": "Python 3",
   "language": "python",
   "name": "python3"
  },
  "language_info": {
   "codemirror_mode": {
    "name": "ipython",
    "version": 3
   },
   "file_extension": ".py",
   "mimetype": "text/x-python",
   "name": "python",
   "nbconvert_exporter": "python",
   "pygments_lexer": "ipython3",
   "version": "3.8.10"
  },
  "toc": {
   "base_numbering": 1,
   "nav_menu": {},
   "number_sections": true,
   "sideBar": true,
   "skip_h1_title": false,
   "title_cell": "Table of Contents",
   "title_sidebar": "Contents",
   "toc_cell": false,
   "toc_position": {},
   "toc_section_display": true,
   "toc_window_display": false
  }
 },
 "nbformat": 4,
 "nbformat_minor": 4
}
